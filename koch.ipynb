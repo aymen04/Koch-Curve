{
 "cells": [
  {
   "cell_type": "code",
   "execution_count": 4,
   "id": "ed35db85",
   "metadata": {},
   "outputs": [],
   "source": [
    "import turtle"
   ]
  },
  {
   "cell_type": "code",
   "execution_count": null,
   "id": "4d64ad0e",
   "metadata": {},
   "outputs": [],
   "source": [
    "window = turtle.Screen()\n",
    "\n",
    "turtle.penup()\n",
    "turtle.goto(x=-200, y=100)\n",
    "\n",
    "def koch(lengthSide, levels): \n",
    "    if levels == 0: \n",
    "        turtle.forward(lengthSide) \n",
    "        return\n",
    "    lengthSide /= 2.5\n",
    "    koch(lengthSide, levels-1) \n",
    "    turtle.left(60) \n",
    "    koch(lengthSide, levels-1) \n",
    "    turtle.right(120) \n",
    "    koch(lengthSide, levels-1) \n",
    "    turtle.left(60) \n",
    "    koch(lengthSide, levels-1) \n",
    "  \n",
    "\n",
    "if __name__ == \"__main__\": \n",
    "    turtle.speed(9999)\n",
    "    length = 300.0\n",
    "  \n",
    "    turtle.penup()                      \n",
    "    turtle.backward(length/2.0) \n",
    "    turtle.pendown()  \n",
    "              \n",
    "    for i in range(3):     \n",
    "        koch(length, 4) \n",
    "        turtle.right(120) \n",
    "  \n",
    "    turtle.mainloop()\n",
    "    exit(0)"
   ]
  },
  {
   "cell_type": "code",
   "execution_count": 2,
   "id": "3c893991",
   "metadata": {},
   "outputs": [],
   "source": []
  },
  {
   "cell_type": "code",
   "execution_count": 38,
   "id": "68df609e",
   "metadata": {},
   "outputs": [],
   "source": []
  },
  {
   "cell_type": "code",
   "execution_count": null,
   "id": "5b2ea2d9",
   "metadata": {},
   "outputs": [],
   "source": []
  },
  {
   "cell_type": "code",
   "execution_count": null,
   "id": "f4edca12",
   "metadata": {},
   "outputs": [],
   "source": []
  },
  {
   "cell_type": "code",
   "execution_count": null,
   "id": "bb0345d2",
   "metadata": {},
   "outputs": [],
   "source": []
  }
 ],
 "metadata": {
  "kernelspec": {
   "display_name": "Python 3 (ipykernel)",
   "language": "python",
   "name": "python3"
  },
  "language_info": {
   "codemirror_mode": {
    "name": "ipython",
    "version": 3
   },
   "file_extension": ".py",
   "mimetype": "text/x-python",
   "name": "python",
   "nbconvert_exporter": "python",
   "pygments_lexer": "ipython3",
   "version": "3.9.12"
  },
  "vscode": {
   "interpreter": {
    "hash": "b0fa6594d8f4cbf19f97940f81e996739fb7646882a419484c72d19e05852a7e"
   }
  }
 },
 "nbformat": 4,
 "nbformat_minor": 5
}
